{
 "cells": [
  {
   "cell_type": "code",
   "execution_count": 1,
   "id": "funded-suicide",
   "metadata": {},
   "outputs": [
    {
     "name": "stderr",
     "output_type": "stream",
     "text": [
      "/opt/conda/lib/python3.8/site-packages/qiskit/providers/ibmq/ibmqfactory.py:192: UserWarning: Timestamps in IBMQ backend properties, jobs, and job results are all now in local time instead of UTC.\n",
      "  warnings.warn('Timestamps in IBMQ backend properties, jobs, and job results '\n"
     ]
    }
   ],
   "source": [
    "%matplotlib inline\n",
    "# Importing standard Qiskit libraries\n",
    "from qiskit import QuantumCircuit, execute, Aer, IBMQ, QuantumRegister, ClassicalRegister\n",
    "from qiskit.compiler import transpile, assemble\n",
    "from qiskit.tools.jupyter import *\n",
    "from qiskit.visualization import *\n",
    "from ibm_quantum_widgets import *\n",
    "from qiskit.circuit.library import CSwapGate as cswap\n",
    "\n",
    "# Loading your IBM Q account(s)\n",
    "provider = IBMQ.load_account()"
   ]
  },
  {
   "cell_type": "code",
   "execution_count": 2,
   "id": "interested-holmes",
   "metadata": {},
   "outputs": [
    {
     "name": "stdout",
     "output_type": "stream",
     "text": [
      "Enter 'n': 4\n"
     ]
    },
    {
     "data": {
      "image/png": "[encoded data removed]",
      "text/plain": [
       "<Figure size 110.537x626.08 with 1 Axes>"
      ]
     },
     "execution_count": 2,
     "metadata": {},
     "output_type": "execute_result"
    }
   ],
   "source": [
    "n = int(input(\"Enter 'n': \"))\n",
    "psi = QuantumRegister(n, name='psi')\n",
    "phi = QuantumRegister(n, name='phi')\n",
    "anc = QuantumRegister(1, name='anc')\n",
    "cla = ClassicalRegister(1)\n",
    "\n",
    "circ = QuantumCircuit(psi, phi, anc, cla)\n",
    "circ.draw(output='mpl')"
   ]
  },
  {
   "cell_type": "code",
   "execution_count": 3,
   "id": "certain-korea",
   "metadata": {},
   "outputs": [
    {
     "name": "stdout",
     "output_type": "stream",
     "text": [
      "Enter 'p': 4\n",
      "{'0': 262, '1': 250}\n"
     ]
    }
   ],
   "source": [
    "backend = Aer.get_backend('qasm_simulator')\n",
    "#import numpy as np\n",
    "#arr = np.empty((0))\n",
    "p = int(input(\"Enter 'p': \"))\n",
    "for j in range(1, p):\n",
    "    circ.h(anc[0])\n",
    "    for i in range(1, n):\n",
    "        circ.cswap(anc[0], psi[i], phi[i])\n",
    "        circ.h(anc[0])\n",
    "        circ.measure(anc[0], cla[0])\n",
    "circ.draw(output='mpl')\n",
    "\n",
    "job = execute(circ,backend,shots=512)\n",
    "counts = job.result().get_counts(circ)\n",
    "\n",
    "print(counts)\n",
    "#s = 1 - ((2/p) * np.sum(arr))\n",
    "#print(\"s = \", s)"
   ]
  },
  {
   "cell_type": "code",
   "execution_count": 4,
   "id": "disabled-majority",
   "metadata": {},
   "outputs": [
    {
     "data": {
      "text/plain": [
       "qiskit.result.counts.Counts"
      ]
     },
     "execution_count": 4,
     "metadata": {},
     "output_type": "execute_result"
    }
   ],
   "source": [
    "type(counts)"
   ]
  },
  {
   "cell_type": "code",
   "execution_count": 19,
   "id": "stock-technician",
   "metadata": {},
   "outputs": [
    {
     "name": "stdout",
     "output_type": "stream",
     "text": [
      "dict_values([262, 250])\n"
     ]
    }
   ],
   "source": [
    "print(counts.values())"
   ]
  },
  {
   "cell_type": "code",
   "execution_count": null,
   "id": "motivated-pleasure",
   "metadata": {},
   "outputs": [],
   "source": []
  }
 ],
 "metadata": {
  "kernelspec": {
   "display_name": "Python 3",
   "language": "python",
   "name": "python3"
  },
  "language_info": {
   "codemirror_mode": {
    "name": "ipython",
    "version": 3
   },
   "file_extension": ".py",
   "mimetype": "text/x-python",
   "name": "python",
   "nbconvert_exporter": "python",
   "pygments_lexer": "ipython3",
   "version": "3.8.6"
  }
 },
 "nbformat": 4,
 "nbformat_minor": 5
}
